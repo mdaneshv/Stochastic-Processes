{
 "cells": [
  {
   "cell_type": "code",
   "execution_count": 41,
   "metadata": {
    "scrolled": true
   },
   "outputs": [
    {
     "data": {
      "text/plain": [
       "{'Group1': ['Youssaf', 'Mohammad', 'Danial', 'Michael', 'Deep'],\n",
       " 'Group2': ['Mahmood', 'Megan', 'Daniel', 'Rashedur', 'Jayson'],\n",
       " 'Group3': ['Saul', 'Manoj', 'Chunmei', 'Iordanis', 'Alan'],\n",
       " 'Group4': ['Zhao', 'Thuyen', 'Triet', 'Garima']}"
      ]
     },
     "execution_count": 41,
     "metadata": {},
     "output_type": "execute_result"
    }
   ],
   "source": [
    "import random\n",
    "\n",
    "class Partition:\n",
    "    \n",
    "    # a constructor to define the atrributes\n",
    "    def __init__(self, List, num_partitions):\n",
    "        \n",
    "        self.List = List\n",
    "        self.num_partitions = num_partitions\n",
    "        \n",
    "    # define the method function    \n",
    "    def make_partition(self):\n",
    "        \n",
    "        random.shuffle(self.List)\n",
    "        return [self.List[i::self.num_partitions] for i in range(self.num_partitions)]\n",
    "      \n",
    "    \n",
    "       # The slice list[i::j] gives the list: [i,i+j,i+2j,...,i+nj,...]\\\n",
    "       # so if j is fixed it gives disjoint partitions.\n",
    "    \n",
    "    \n",
    "    \n",
    "    \n",
    "List = 'Saul Daniel Alan Danial Michael Jayson Mohammad Thuyen Triet Mahmood\\\n",
    "          Deep Iordanis Youssaf Rashedur Garima Megan Manoj Chunmei Zhao'.split() \n",
    "\n",
    "groups = Partition(List, 4)\n",
    "partition_list = groups.make_partition() \n",
    "\n",
    "\n",
    "name_groups = ['Group1', 'Group2', 'Group3', 'Group4']\n",
    "dict(zip(name_groups,partition_list))\n",
    "        \n",
    "    \n",
    "        \n",
    "        \n",
    "    \n",
    "    "
   ]
  },
  {
   "cell_type": "code",
   "execution_count": null,
   "metadata": {},
   "outputs": [],
   "source": []
  }
 ],
 "metadata": {
  "kernelspec": {
   "display_name": "Python 3",
   "language": "python",
   "name": "python3"
  },
  "language_info": {
   "codemirror_mode": {
    "name": "ipython",
    "version": 3
   },
   "file_extension": ".py",
   "mimetype": "text/x-python",
   "name": "python",
   "nbconvert_exporter": "python",
   "pygments_lexer": "ipython3",
   "version": "3.8.3"
  }
 },
 "nbformat": 4,
 "nbformat_minor": 4
}

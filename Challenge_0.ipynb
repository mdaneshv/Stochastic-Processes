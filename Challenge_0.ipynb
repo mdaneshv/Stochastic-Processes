{
 "cells": [
  {
   "cell_type": "code",
   "execution_count": 14,
   "metadata": {},
   "outputs": [
    {
     "data": {
      "text/plain": [
       "[[13, 5, 12, 10, 1], [4, 8, 16, 14, 9], [15, 2, 7, 0, 11], [3, 18, 6, 17]]"
      ]
     },
     "execution_count": 14,
     "metadata": {},
     "output_type": "execute_result"
    }
   ],
   "source": [
    "def groups(List, num_groups=19):\n",
    "    \n",
    "    random.shuffle(List)\n",
    "    return [List[5*i:5*i+5] for i in range(4)]\n",
    "\n",
    "List = [i for i in range(19)]\n",
    "groups(List,19)\n",
    "\n",
    "    "
   ]
  },
  {
   "cell_type": "code",
   "execution_count": null,
   "metadata": {},
   "outputs": [],
   "source": []
  }
 ],
 "metadata": {
  "kernelspec": {
   "display_name": "Python 3",
   "language": "python",
   "name": "python3"
  },
  "language_info": {
   "codemirror_mode": {
    "name": "ipython",
    "version": 3
   },
   "file_extension": ".py",
   "mimetype": "text/x-python",
   "name": "python",
   "nbconvert_exporter": "python",
   "pygments_lexer": "ipython3",
   "version": "3.8.3"
  }
 },
 "nbformat": 4,
 "nbformat_minor": 4
}
